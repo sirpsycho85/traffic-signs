{
 "cells": [
  {
   "cell_type": "code",
   "execution_count": 1,
   "metadata": {
    "collapsed": false
   },
   "outputs": [],
   "source": [
    "%matplotlib inline\n",
    "import matplotlib.pyplot as plt\n",
    "import tensorflow as tf\n",
    "import numpy as np\n",
    "from sklearn.metrics import confusion_matrix\n",
    "import time\n",
    "from datetime import timedelta\n",
    "import math\n",
    "import cv2\n",
    "import numpy as np\n",
    "from collections import Counter\n",
    "from sklearn.preprocessing import LabelBinarizer"
   ]
  },
  {
   "cell_type": "code",
   "execution_count": 2,
   "metadata": {
    "collapsed": true
   },
   "outputs": [],
   "source": [
    "def grayscale(img):\n",
    "    \"\"\"Applies the Grayscale transform\n",
    "    This will return an image with only one color channel\n",
    "    but NOTE: to see the returned image as grayscale\n",
    "    you should call plt.imshow(gray, cmap='gray')\"\"\"\n",
    "    return cv2.cvtColor(img, cv2.COLOR_BGR2GRAY)\n",
    "\n",
    "def normalize_grayscale(X):\n",
    "    a,b,xmin,xmax = 0.1,0.9,0,255\n",
    "    return a+(X-xmin)*(b-a)/(xmax-xmin)\n",
    "\n",
    "def grayscale_4d(X):\n",
    "    X_gray = np.empty(X[:,:,:,0].shape)\n",
    "    for i in range(len(X_gray)):\n",
    "        X_gray[i] = normalize_grayscale(grayscale(X[i]))\n",
    "    return(X_gray)\n",
    "\n",
    "def flat_3d(X):\n",
    "    n, a,b = X.shape[0],X.shape[1],X.shape[2]\n",
    "    X_flat = np.empty((n,a*b))\n",
    "    for i in range(len(X_flat)):\n",
    "        X_flat[i] = X[i].reshape(a*b)\n",
    "    return(X_flat)\n",
    "\n",
    "def shuffle_in_unison(a, b):\n",
    "    assert len(a) == len(b)\n",
    "    shuffled_a = np.empty(a.shape, dtype=a.dtype)\n",
    "    shuffled_b = np.empty(b.shape, dtype=b.dtype)\n",
    "    permutation = np.random.permutation(len(a))\n",
    "    for old_index, new_index in enumerate(permutation):\n",
    "        shuffled_a[new_index] = a[old_index]\n",
    "        shuffled_b[new_index] = b[old_index]\n",
    "    return shuffled_a, shuffled_b\n",
    "\n",
    "def flatten_x(x):\n",
    "    # Get the shape of the input layer.\n",
    "    x_shape = x.shape\n",
    "\n",
    "    # The shape of the input layer is assumed to be:\n",
    "    # layer_shape == [num_images, img_height, img_width, num_channels]\n",
    "\n",
    "    # The number of features is: img_height * img_width * num_channels\n",
    "    # We can use a function from TensorFlow to calculate this.\n",
    "#     num_features = x_shape[1:4].num_elements()\n",
    "    num_features = np.prod(x_shape[1:4])\n",
    "    \n",
    "    # Reshape the layer to [num_images, num_features].\n",
    "    # Note that we just set the size of the second dimension\n",
    "    # to num_features and the size of the first dimension to -1\n",
    "    # which means the size in that dimension is calculated\n",
    "    # so the total size of the tensor is unchanged from the reshaping.\n",
    "    x_flat = np.reshape(x, [-1, num_features])\n",
    "\n",
    "    # The shape of the flattened layer is now:\n",
    "    # [num_images, img_height * img_width * num_channels]\n",
    "\n",
    "    # Return both the flattened layer and the number of features.\n",
    "    return x_flat, num_features"
   ]
  },
  {
   "cell_type": "code",
   "execution_count": 3,
   "metadata": {
    "collapsed": false,
    "scrolled": true
   },
   "outputs": [],
   "source": [
    "# Load pickled data\n",
    "import pickle\n",
    "\n",
    "# TODO: fill this in based on where you saved the training and testing data\n",
    "training_file = 'lab 2 data/train.p'\n",
    "testing_file = 'lab 2 data/test.p'\n",
    "\n",
    "with open(training_file, mode='rb') as f:\n",
    "    train = pickle.load(f)\n",
    "with open(testing_file, mode='rb') as f:\n",
    "    test = pickle.load(f)\n",
    "    \n",
    "X_train, y_train_cls = train['features'], train['labels']\n",
    "X_test, y_test_cls = test['features'], test['labels']\n",
    "\n",
    "X_train,y_train_cls = shuffle_in_unison(X_train, y_train_cls)\n",
    "\n",
    "X_train = normalize_grayscale(X_train)\n",
    "\n",
    "X_train_flat, X_train_flat_features = flatten_x(X_train)\n",
    "\n",
    "# X_train = grayscale_4d(X_train)\n",
    "# X_test = grayscale_4d(X_test)\n",
    "\n",
    "# X_train = flat_3d(X_train)\n",
    "# X_test = flat_3d(X_test)"
   ]
  },
  {
   "cell_type": "code",
   "execution_count": 4,
   "metadata": {
    "collapsed": false
   },
   "outputs": [],
   "source": [
    "num_channels = 3\n",
    "img_size = 32\n",
    "img_size_flat = img_size * img_size\n",
    "img_shape = (img_size, img_size, num_channels)\n",
    "num_classes = len(Counter(y_train_cls)) #43"
   ]
  },
  {
   "cell_type": "code",
   "execution_count": 5,
   "metadata": {
    "collapsed": false
   },
   "outputs": [],
   "source": [
    "encoder = LabelBinarizer()\n",
    "encoder.fit(y_train_cls)\n",
    "y_train = encoder.transform(y_train_cls).astype(np.float32)\n",
    "y_test = encoder.transform(y_test_cls).astype(np.float32)"
   ]
  },
  {
   "cell_type": "code",
   "execution_count": 6,
   "metadata": {
    "collapsed": false
   },
   "outputs": [],
   "source": [
    "def plot_images(images, cls_true, cls_pred=None):\n",
    "    assert len(images) == len(cls_true) == 9\n",
    "    \n",
    "    # Create figure with 3x3 sub-plots.\n",
    "    fig, axes = plt.subplots(3, 3)\n",
    "    fig.subplots_adjust(hspace=0.3, wspace=0.3)\n",
    "\n",
    "    for i, ax in enumerate(axes.flat):\n",
    "        # Plot image.\n",
    "        ax.imshow(images[i].reshape(img_shape), cmap='binary')\n",
    "\n",
    "        # Show true and predicted classes.\n",
    "        if cls_pred is None:\n",
    "            xlabel = \"True: {0}\".format(cls_true[i])\n",
    "        else:\n",
    "            xlabel = \"True: {0}, Pred: {1}\".format(cls_true[i], cls_pred[i])\n",
    "\n",
    "        ax.set_xlabel(xlabel)\n",
    "        \n",
    "        # Remove ticks from the plot.\n",
    "        ax.set_xticks([])\n",
    "        ax.set_yticks([])"
   ]
  },
  {
   "cell_type": "code",
   "execution_count": 7,
   "metadata": {
    "collapsed": false
   },
   "outputs": [
    {
     "data": {
      "image/png": "[encoded data removed]",
      "text/plain": [
       "<matplotlib.figure.Figure at 0x112ce2d30>"
      ]
     },
     "metadata": {},
     "output_type": "display_data"
    }
   ],
   "source": [
    "# Get the first images from the test-set.\n",
    "images = X_train_flat[20:29]\n",
    "\n",
    "# Get the true classes for those images.\n",
    "cls_true = y_train_cls[20:29]\n",
    "\n",
    "# Plot the images and labels using our helper-function above.\n",
    "plot_images(images=images, cls_true=cls_true)"
   ]
  },
  {
   "cell_type": "markdown",
   "metadata": {},
   "source": [
    "### Helpers"
   ]
  },
  {
   "cell_type": "code",
   "execution_count": 8,
   "metadata": {
    "collapsed": true
   },
   "outputs": [],
   "source": [
    "def new_weights(shape):\n",
    "    return tf.Variable(tf.truncated_normal(shape, stddev=0.05))\n",
    "#     return tf.Variable(tf.zeros(shape))"
   ]
  },
  {
   "cell_type": "code",
   "execution_count": 9,
   "metadata": {
    "collapsed": true
   },
   "outputs": [],
   "source": [
    "def new_biases(length):\n",
    "    return tf.Variable(tf.constant(0.05, shape=[length]))\n",
    "#     return tf.Variable(tf.zeros(length))"
   ]
  },
  {
   "cell_type": "code",
   "execution_count": 10,
   "metadata": {
    "collapsed": true
   },
   "outputs": [],
   "source": [
    "def new_fc_layer(input,          # The previous layer.\n",
    "                 num_inputs,     # Num. inputs from prev. layer.\n",
    "                 num_outputs,    # Num. outputs.\n",
    "                 use_relu=False): # Use Rectified Linear Unit (ReLU)?\n",
    "\n",
    "    weights = new_weights(shape=[num_inputs, num_outputs])\n",
    "    biases = new_biases(length=num_outputs)\n",
    "\n",
    "    layer = tf.matmul(input, weights) + biases\n",
    "\n",
    "    if use_relu:\n",
    "        layer = tf.nn.relu(layer)\n",
    "\n",
    "    return layer"
   ]
  },
  {
   "cell_type": "code",
   "execution_count": 11,
   "metadata": {
    "collapsed": true
   },
   "outputs": [],
   "source": [
    "def new_conv_layer(input,              # The previous layer.\n",
    "                   num_input_channels, # Num. channels in prev. layer.\n",
    "                   filter_size,        # Width and height of each filter.\n",
    "                   num_filters,        # Number of filters.\n",
    "                   use_pooling=True):  # Use 2x2 max-pooling.\n",
    "\n",
    "    # Shape of the filter-weights for the convolution.\n",
    "    # This format is determined by the TensorFlow API.\n",
    "    shape = [filter_size, filter_size, num_input_channels, num_filters]\n",
    "\n",
    "    # Create new weights aka. filters with the given shape.\n",
    "    weights = new_weights(shape=shape)\n",
    "\n",
    "    # Create new biases, one for each filter.\n",
    "    biases = new_biases(length=num_filters)\n",
    "\n",
    "    # Create the TensorFlow operation for convolution.\n",
    "    # Note the strides are set to 1 in all dimensions.\n",
    "    # The first and last stride must always be 1,\n",
    "    # because the first is for the image-number and\n",
    "    # the last is for the input-channel.\n",
    "    # But e.g. strides=[1, 2, 2, 1] would mean that the filter\n",
    "    # is moved 2 pixels across the x- and y-axis of the image.\n",
    "    # The padding is set to 'SAME' which means the input image\n",
    "    # is padded with zeroes so the size of the output is the same.\n",
    "    layer = tf.nn.conv2d(input=input,\n",
    "                         filter=weights,\n",
    "                         strides=[1, 1, 1, 1],\n",
    "                         padding='SAME')\n",
    "\n",
    "    # Add the biases to the results of the convolution.\n",
    "    # A bias-value is added to each filter-channel.\n",
    "    layer += biases\n",
    "\n",
    "    # Use pooling to down-sample the image resolution?\n",
    "    if use_pooling:\n",
    "        # This is 2x2 max-pooling, which means that we\n",
    "        # consider 2x2 windows and select the largest value\n",
    "        # in each window. Then we move 2 pixels to the next window.\n",
    "        layer = tf.nn.max_pool(value=layer,\n",
    "                               ksize=[1, 2, 2, 1],\n",
    "                               strides=[1, 2, 2, 1],\n",
    "                               padding='SAME')\n",
    "\n",
    "    # Rectified Linear Unit (ReLU).\n",
    "    # It calculates max(x, 0) for each input pixel x.\n",
    "    # This adds some non-linearity to the formula and allows us\n",
    "    # to learn more complicated functions.\n",
    "    layer = tf.nn.relu(layer)\n",
    "\n",
    "    # Note that ReLU is normally executed before the pooling,\n",
    "    # but since relu(max_pool(x)) == max_pool(relu(x)) we can\n",
    "    # save 75% of the relu-operations by max-pooling first.\n",
    "\n",
    "    # We return both the resulting layer and the filter-weights\n",
    "    # because we will plot the weights later.\n",
    "    return layer, weights"
   ]
  },
  {
   "cell_type": "code",
   "execution_count": 12,
   "metadata": {
    "collapsed": true
   },
   "outputs": [],
   "source": [
    "def flatten_layer(layer):\n",
    "    # Get the shape of the input layer.\n",
    "    layer_shape = layer.get_shape()\n",
    "\n",
    "    # The shape of the input layer is assumed to be:\n",
    "    # layer_shape == [num_images, img_height, img_width, num_channels]\n",
    "\n",
    "    # The number of features is: img_height * img_width * num_channels\n",
    "    # We can use a function from TensorFlow to calculate this.\n",
    "    num_features = layer_shape[1:4].num_elements()\n",
    "    \n",
    "    # Reshape the layer to [num_images, num_features].\n",
    "    # Note that we just set the size of the second dimension\n",
    "    # to num_features and the size of the first dimension to -1\n",
    "    # which means the size in that dimension is calculated\n",
    "    # so the total size of the tensor is unchanged from the reshaping.\n",
    "    layer_flat = tf.reshape(layer, [-1, num_features])\n",
    "\n",
    "    # The shape of the flattened layer is now:\n",
    "    # [num_images, img_height * img_width * num_channels]\n",
    "\n",
    "    # Return both the flattened layer and the number of features.\n",
    "    return layer_flat, num_features"
   ]
  },
  {
   "cell_type": "markdown",
   "metadata": {},
   "source": [
    "### Placeholders"
   ]
  },
  {
   "cell_type": "code",
   "execution_count": 13,
   "metadata": {
    "collapsed": false
   },
   "outputs": [],
   "source": [
    "# x = tf.placeholder(tf.float32, [None, img_shape])\n",
    "x = tf.placeholder(tf.float32, [None, img_size, img_size, num_channels])\n",
    "\n",
    "y_true = tf.placeholder(tf.float32, [None, num_classes])\n",
    "y_true_cls = tf.placeholder(tf.int64, [None]) # is this correct? see tutorial 2"
   ]
  },
  {
   "cell_type": "markdown",
   "metadata": {},
   "source": [
    "### Variables to optimize"
   ]
  },
  {
   "cell_type": "code",
   "execution_count": 14,
   "metadata": {
    "collapsed": true
   },
   "outputs": [],
   "source": [
    "# OLD\n",
    "# weights = tf.Variable(tf.zeros([img_size_flat, num_classes]))\n",
    "# biases = tf.Variable(tf.zeros([num_classes]))\n",
    "\n",
    "# Uses function but also OLD\n",
    "# weights = new_weights(shape=[img_size_flat, num_classes])\n",
    "# biases = new_biases(length=num_classes)"
   ]
  },
  {
   "cell_type": "markdown",
   "metadata": {},
   "source": [
    "### Model"
   ]
  },
  {
   "cell_type": "code",
   "execution_count": 15,
   "metadata": {
    "collapsed": false
   },
   "outputs": [],
   "source": [
    "# logits = tf.matmul(x, weights) + biases\n",
    "# layer = tf.nn.relu(logits)\n",
    "\n",
    "# First convolutional layer\n",
    "conv1_filter_size = 5\n",
    "conv1_num_filters = 16\n",
    "\n",
    "layer_conv1, weights_conv1 = new_conv_layer(x,              # The previous layer.\n",
    "                   num_channels, # Num. channels in prev. layer.\n",
    "                   conv1_filter_size,        # Width and height of each filter.\n",
    "                   conv1_num_filters,        # Number of filters.\n",
    "                   use_pooling=True)  # Use 2x2 max-pooling.\n",
    "\n",
    "# Second convolutional layer\n",
    "\n",
    "conv2_filter_size = 5\n",
    "conv2_num_filters = 36\n",
    "\n",
    "layer_conv2, weights_conv2 = new_conv_layer(layer_conv1,              # The previous layer.\n",
    "                   conv1_num_filters, # Num. channels in prev. layer.\n",
    "                   conv2_filter_size,        # Width and height of each filter.\n",
    "                   conv2_num_filters,        # Number of filters.\n",
    "                   use_pooling=True)  # Use 2x2 max-pooling.\n",
    "\n",
    "# Flatten second conv layer for FC layer\n",
    "\n",
    "layer_flat, num_features = flatten_layer(layer_conv2)\n",
    "\n",
    "# First FC layer\n",
    "\n",
    "fc1_out_features = 64\n",
    "\n",
    "layer_fc1 = new_fc_layer(layer_flat,          # The previous layer.\n",
    "                 num_features,     # Num. inputs from prev. layer.\n",
    "                 fc1_out_features,    # Num. outputs.\n",
    "                 use_relu=True) # Use Rectified Linear Unit (ReLU)?\n",
    "\n",
    "# Last FC layer\n",
    "\n",
    "layer_last = new_fc_layer(layer_fc1,          # The previous layer.\n",
    "                 fc1_out_features,     # Num. inputs from prev. layer.\n",
    "                 num_classes,    # Num. outputs.\n",
    "                 use_relu=False) # Use Rectified Linear Unit (ReLU)?\n",
    "\n",
    "# get predicted class\n",
    "\n",
    "y_pred = tf.nn.softmax(layer_last)\n",
    "y_pred_cls = tf.argmax(y_pred, dimension=1)\n",
    "\n",
    "\n",
    "# cost function\n",
    "cross_entropy = tf.nn.softmax_cross_entropy_with_logits(logits=layer_last, labels=y_true)\n",
    "# cross_entropy = -tf.reduce_sum(y_true * tf.log(tf.clip_by_value(layer,1e-10,1.0)), reduction_indices=1)\n",
    "cost = tf.reduce_mean(cross_entropy)"
   ]
  },
  {
   "cell_type": "code",
   "execution_count": null,
   "metadata": {
    "collapsed": false
   },
   "outputs": [],
   "source": []
  },
  {
   "cell_type": "markdown",
   "metadata": {},
   "source": [
    "### Optimizer"
   ]
  },
  {
   "cell_type": "code",
   "execution_count": 16,
   "metadata": {
    "collapsed": true
   },
   "outputs": [],
   "source": [
    "optimizer = tf.train.GradientDescentOptimizer(learning_rate=0.1).minimize(cost)"
   ]
  },
  {
   "cell_type": "markdown",
   "metadata": {},
   "source": [
    "### Measuring performance"
   ]
  },
  {
   "cell_type": "code",
   "execution_count": 17,
   "metadata": {
    "collapsed": true
   },
   "outputs": [],
   "source": [
    "correct_prediction = tf.equal(y_pred_cls, y_true_cls)\n",
    "accuracy = tf.reduce_mean(tf.cast(correct_prediction, tf.float32))"
   ]
  },
  {
   "cell_type": "markdown",
   "metadata": {},
   "source": [
    "## Run"
   ]
  },
  {
   "cell_type": "code",
   "execution_count": 18,
   "metadata": {
    "collapsed": true
   },
   "outputs": [],
   "source": [
    "session = tf.Session()\n",
    "session.run(tf.initialize_all_variables())"
   ]
  },
  {
   "cell_type": "code",
   "execution_count": 19,
   "metadata": {
    "collapsed": false
   },
   "outputs": [],
   "source": [
    "batch_size = 512"
   ]
  },
  {
   "cell_type": "code",
   "execution_count": 20,
   "metadata": {
    "collapsed": true
   },
   "outputs": [],
   "source": [
    "def optimize(num_iterations):\n",
    "    for i in range(num_iterations):\n",
    "        \n",
    "        batch_start = i*batch_size % len(X_train)\n",
    "        batch_end = min(batch_start+batch_size,len(X_train))\n",
    "        x_batch = X_train[batch_start:batch_end]\n",
    "        y_true_batch = y_train[batch_start:batch_end]\n",
    "        y_true_batch_cls = y_train_cls[batch_start:batch_end]\n",
    "        \n",
    "        # Put the batch into a dict with the proper names\n",
    "        # for placeholder variables in the TensorFlow graph.\n",
    "        # Note that the placeholder for y_true_cls is not set\n",
    "        # because it is not used during training.\n",
    "        feed_dict_train = {x: x_batch,\n",
    "                           y_true: y_true_batch}\n",
    "\n",
    "        # Run the optimizer using this batch of training data.\n",
    "        # TensorFlow assigns the variables in feed_dict_train\n",
    "        # to the placeholder variables and then runs the optimizer.\n",
    "        _, batch_cost = session.run([optimizer, cost], feed_dict=feed_dict_train)\n",
    "        \n",
    "        # Print status every 100 iterations.\n",
    "        if i % 20 == 0:\n",
    "            feed_dict_train_accuracy = {x: x_batch, y_true: y_true_batch, y_true_cls: y_true_batch_cls}\n",
    "            acc = session.run(accuracy, feed_dict=feed_dict_train_accuracy)\n",
    "            msg = \"Optimization Iteration: {0:>6}, Training Accuracy: {1:>6.1%}, Batch Cost: {2}\"\n",
    "            print(msg.format(i + 1, acc, batch_cost))"
   ]
  },
  {
   "cell_type": "markdown",
   "metadata": {},
   "source": [
    "### Helper-functions to show performance"
   ]
  },
  {
   "cell_type": "code",
   "execution_count": 21,
   "metadata": {
    "collapsed": false
   },
   "outputs": [],
   "source": [
    "feed_dict_test = {x: X_test,\n",
    "                  y_true: y_test,\n",
    "                  y_true_cls: y_test_cls}"
   ]
  },
  {
   "cell_type": "code",
   "execution_count": 22,
   "metadata": {
    "collapsed": true
   },
   "outputs": [],
   "source": [
    "def print_accuracy():\n",
    "    # Use TensorFlow to compute the accuracy.\n",
    "    acc = session.run(accuracy, feed_dict=feed_dict_test)\n",
    "    \n",
    "    # Print the accuracy.\n",
    "    print(\"Accuracy on test-set: {0:.1%}\".format(acc))"
   ]
  },
  {
   "cell_type": "code",
   "execution_count": 23,
   "metadata": {
    "collapsed": true
   },
   "outputs": [],
   "source": [
    "def print_confusion_matrix():\n",
    "    # Get the true classifications for the test-set.\n",
    "    cls_true = y_test_cls\n",
    "    \n",
    "    # Get the predicted classifications for the test-set.\n",
    "    cls_pred = session.run(y_pred_cls, feed_dict=feed_dict_test)\n",
    "\n",
    "    # Get the confusion matrix using sklearn.\n",
    "    cm = confusion_matrix(y_true=cls_true,\n",
    "                          y_pred=cls_pred)\n",
    "\n",
    "    # Print the confusion matrix as text.\n",
    "    print(cm)\n",
    "\n",
    "    # Plot the confusion matrix as an image.\n",
    "    plt.imshow(cm, interpolation='nearest', cmap=plt.cm.Blues)\n",
    "\n",
    "    # Make various adjustments to the plot.\n",
    "    plt.tight_layout()\n",
    "    plt.colorbar()\n",
    "    tick_marks = np.arange(num_classes)\n",
    "    plt.xticks(tick_marks, range(num_classes))\n",
    "    plt.yticks(tick_marks, range(num_classes))\n",
    "    plt.xlabel('Predicted')\n",
    "    plt.ylabel('True')"
   ]
  },
  {
   "cell_type": "code",
   "execution_count": 24,
   "metadata": {
    "collapsed": true
   },
   "outputs": [],
   "source": [
    "def plot_example_errors():\n",
    "    # Use TensorFlow to get a list of boolean values\n",
    "    # whether each test-image has been correctly classified,\n",
    "    # and a list for the predicted class of each image.\n",
    "    correct, cls_pred = session.run([correct_prediction, y_pred_cls],\n",
    "                                    feed_dict=feed_dict_test)\n",
    "\n",
    "    # Negate the boolean array.\n",
    "    incorrect = (correct == False)\n",
    "    \n",
    "    # Get the images from the test-set that have been\n",
    "    # incorrectly classified.\n",
    "    images = X_test[incorrect]\n",
    "    \n",
    "    # Get the predicted classes for those images.\n",
    "    cls_pred = cls_pred[incorrect]\n",
    "\n",
    "    # Get the true classes for those images.\n",
    "    cls_true = y_test_cls[incorrect]\n",
    "    \n",
    "    # Plot the first 9 images.\n",
    "    plot_images(images=images[0:9],\n",
    "                cls_true=cls_true[0:9],\n",
    "                cls_pred=cls_pred[0:9])"
   ]
  },
  {
   "cell_type": "code",
   "execution_count": 25,
   "metadata": {
    "collapsed": true
   },
   "outputs": [],
   "source": [
    "def plot_weights():\n",
    "    # Get the values for the weights from the TensorFlow variable.\n",
    "    w = session.run(weights)\n",
    "    \n",
    "    # Get the lowest and highest values for the weights.\n",
    "    # This is used to correct the colour intensity across\n",
    "    # the images so they can be compared with each other.\n",
    "    w_min = np.min(w)\n",
    "    w_max = np.max(w)\n",
    "\n",
    "    # where the last 2 sub-plots are unused.\n",
    "    fig, axes = plt.subplots(5, 10)\n",
    "    fig.subplots_adjust(hspace=1, wspace=1)\n",
    "\n",
    "    for i, ax in enumerate(axes.flat):\n",
    "        # Only use the weights for the first 10 sub-plots.\n",
    "        if i<num_classes:\n",
    "            # Get the weights for the i'th digit and reshape it.\n",
    "            # Note that w.shape == (img_size_flat, 10)\n",
    "            image = w[:, i].reshape(img_shape)\n",
    "\n",
    "            # Set the label for the sub-plot.\n",
    "            ax.set_xlabel(\"W: {0}\".format(i))\n",
    "\n",
    "            # Plot the image.\n",
    "            ax.imshow(image, vmin=w_min, vmax=w_max, cmap='seismic')\n",
    "\n",
    "        # Remove ticks from each sub-plot.\n",
    "        ax.set_xticks([])\n",
    "        ax.set_yticks([])"
   ]
  },
  {
   "cell_type": "markdown",
   "metadata": {},
   "source": [
    "## Performance before any optimization "
   ]
  },
  {
   "cell_type": "code",
   "execution_count": 26,
   "metadata": {
    "collapsed": false,
    "scrolled": true
   },
   "outputs": [
    {
     "name": "stdout",
     "output_type": "stream",
     "text": [
      "Accuracy on test-set: 3.3%\n"
     ]
    }
   ],
   "source": [
    "print_accuracy()"
   ]
  },
  {
   "cell_type": "code",
   "execution_count": 27,
   "metadata": {
    "collapsed": false
   },
   "outputs": [],
   "source": [
    "# plot_example_errors()"
   ]
  },
  {
   "cell_type": "code",
   "execution_count": 28,
   "metadata": {
    "collapsed": false
   },
   "outputs": [],
   "source": [
    "# plot_weights()"
   ]
  },
  {
   "cell_type": "code",
   "execution_count": 29,
   "metadata": {
    "collapsed": false
   },
   "outputs": [],
   "source": [
    "# print_confusion_matrix()"
   ]
  },
  {
   "cell_type": "markdown",
   "metadata": {},
   "source": [
    "## Performance after 1 optimization iteration"
   ]
  },
  {
   "cell_type": "code",
   "execution_count": 30,
   "metadata": {
    "collapsed": false,
    "scrolled": false
   },
   "outputs": [
    {
     "name": "stdout",
     "output_type": "stream",
     "text": [
      "Optimization Iteration:      1, Training Accuracy:   4.9%, Batch Cost: 3.768092632293701\n",
      "Accuracy on test-set: 5.0%\n"
     ]
    }
   ],
   "source": [
    "optimize(num_iterations=1)\n",
    "print_accuracy()"
   ]
  },
  {
   "cell_type": "code",
   "execution_count": 31,
   "metadata": {
    "collapsed": true
   },
   "outputs": [],
   "source": [
    "# plot_example_errors()"
   ]
  },
  {
   "cell_type": "code",
   "execution_count": 32,
   "metadata": {
    "collapsed": false,
    "scrolled": true
   },
   "outputs": [],
   "source": [
    "# plot_weights()"
   ]
  },
  {
   "cell_type": "code",
   "execution_count": 33,
   "metadata": {
    "collapsed": false
   },
   "outputs": [],
   "source": [
    "# print_confusion_matrix()"
   ]
  },
  {
   "cell_type": "markdown",
   "metadata": {},
   "source": [
    "## Performance after 10 optimization iteration"
   ]
  },
  {
   "cell_type": "code",
   "execution_count": 34,
   "metadata": {
    "collapsed": false
   },
   "outputs": [
    {
     "name": "stdout",
     "output_type": "stream",
     "text": [
      "Optimization Iteration:      1, Training Accuracy:   5.1%, Batch Cost: 3.7584943771362305\n",
      "Accuracy on test-set: 5.9%\n"
     ]
    }
   ],
   "source": [
    "optimize(num_iterations=9)\n",
    "print_accuracy()"
   ]
  },
  {
   "cell_type": "code",
   "execution_count": 35,
   "metadata": {
    "collapsed": false,
    "scrolled": true
   },
   "outputs": [],
   "source": [
    "# plot_example_errors()"
   ]
  },
  {
   "cell_type": "code",
   "execution_count": 36,
   "metadata": {
    "collapsed": false,
    "scrolled": false
   },
   "outputs": [],
   "source": [
    "# plot_weights()"
   ]
  },
  {
   "cell_type": "code",
   "execution_count": 37,
   "metadata": {
    "collapsed": false,
    "scrolled": true
   },
   "outputs": [
    {
     "name": "stdout",
     "output_type": "stream",
     "text": [
      "[[  0   0  60 ...,   0   0   0]\n",
      " [  0   0 720 ...,   0   0   0]\n",
      " [  0   0 750 ...,   0   0   0]\n",
      " ..., \n",
      " [  0   0  90 ...,   0   0   0]\n",
      " [  0   0  60 ...,   0   0   0]\n",
      " [  0   0  90 ...,   0   0   0]]\n"
     ]
    },
    {
     "data": {
      "image/png": "[encoded data removed]",
      "text/plain": [
       "<matplotlib.figure.Figure at 0x1686310b8>"
      ]
     },
     "metadata": {},
     "output_type": "display_data"
    }
   ],
   "source": [
    "print_confusion_matrix()"
   ]
  },
  {
   "cell_type": "markdown",
   "metadata": {},
   "source": [
    "## Performance after 100 optimization iterations"
   ]
  },
  {
   "cell_type": "code",
   "execution_count": 38,
   "metadata": {
    "collapsed": false
   },
   "outputs": [
    {
     "name": "stdout",
     "output_type": "stream",
     "text": [
      "Optimization Iteration:      1, Training Accuracy:   5.3%, Batch Cost: 3.6771626472473145\n",
      "Optimization Iteration:     21, Training Accuracy:   6.2%, Batch Cost: 3.5211188793182373\n",
      "Optimization Iteration:     41, Training Accuracy:   8.2%, Batch Cost: 3.56322979927063\n",
      "Optimization Iteration:     61, Training Accuracy:  12.1%, Batch Cost: 3.459925651550293\n",
      "Optimization Iteration:     81, Training Accuracy:   8.8%, Batch Cost: 3.4242687225341797\n",
      "Accuracy on test-set: 9.4%\n"
     ]
    }
   ],
   "source": [
    "optimize(num_iterations=90)\n",
    "print_accuracy()"
   ]
  },
  {
   "cell_type": "code",
   "execution_count": 39,
   "metadata": {
    "collapsed": false
   },
   "outputs": [],
   "source": [
    "# plot_example_errors()"
   ]
  },
  {
   "cell_type": "code",
   "execution_count": 40,
   "metadata": {
    "collapsed": false
   },
   "outputs": [],
   "source": [
    "# plot_weights()"
   ]
  },
  {
   "cell_type": "code",
   "execution_count": 41,
   "metadata": {
    "collapsed": false
   },
   "outputs": [],
   "source": [
    "# print_confusion_matrix()"
   ]
  },
  {
   "cell_type": "markdown",
   "metadata": {},
   "source": [
    "## More iterations"
   ]
  },
  {
   "cell_type": "code",
   "execution_count": 42,
   "metadata": {
    "collapsed": false,
    "scrolled": true
   },
   "outputs": [
    {
     "name": "stdout",
     "output_type": "stream",
     "text": [
      "Optimization Iteration:      1, Training Accuracy:  16.6%, Batch Cost: 3.376290798187256\n",
      "Optimization Iteration:     21, Training Accuracy:   9.0%, Batch Cost: 3.3255467414855957\n",
      "Optimization Iteration:     41, Training Accuracy:  20.5%, Batch Cost: 3.2752256393432617\n",
      "Optimization Iteration:     61, Training Accuracy:  24.0%, Batch Cost: 2.961554527282715\n",
      "Optimization Iteration:     81, Training Accuracy:  18.9%, Batch Cost: 3.1625754833221436\n",
      "Optimization Iteration:    101, Training Accuracy:  34.8%, Batch Cost: 2.3716578483581543\n",
      "Optimization Iteration:    121, Training Accuracy:  41.2%, Batch Cost: 2.195131301879883\n",
      "Optimization Iteration:    141, Training Accuracy:  38.1%, Batch Cost: 2.0093111991882324\n",
      "Optimization Iteration:    161, Training Accuracy:  37.7%, Batch Cost: 1.9846091270446777\n",
      "Optimization Iteration:    181, Training Accuracy:  52.0%, Batch Cost: 1.965196132659912\n",
      "Optimization Iteration:    201, Training Accuracy:  52.5%, Batch Cost: 1.8018358945846558\n",
      "Optimization Iteration:    221, Training Accuracy:  58.4%, Batch Cost: 1.505102276802063\n",
      "Optimization Iteration:    241, Training Accuracy:  63.1%, Batch Cost: 1.3179550170898438\n",
      "Optimization Iteration:    261, Training Accuracy:  63.1%, Batch Cost: 1.3170565366744995\n",
      "Optimization Iteration:    281, Training Accuracy:  64.8%, Batch Cost: 1.1009089946746826\n",
      "Optimization Iteration:    301, Training Accuracy:  68.2%, Batch Cost: 1.1686803102493286\n",
      "Optimization Iteration:    321, Training Accuracy:  73.2%, Batch Cost: 1.0417691469192505\n",
      "Optimization Iteration:    341, Training Accuracy:  76.4%, Batch Cost: 0.7698278427124023\n",
      "Optimization Iteration:    361, Training Accuracy:  75.2%, Batch Cost: 0.8908073902130127\n",
      "Optimization Iteration:    381, Training Accuracy:  75.6%, Batch Cost: 0.7007848620414734\n",
      "Optimization Iteration:    401, Training Accuracy:  81.6%, Batch Cost: 0.7656508088111877\n",
      "Optimization Iteration:    421, Training Accuracy:  76.0%, Batch Cost: 1.066028356552124\n",
      "Optimization Iteration:    441, Training Accuracy:  75.2%, Batch Cost: 0.7423500418663025\n",
      "Optimization Iteration:    461, Training Accuracy:  87.3%, Batch Cost: 0.556016206741333\n",
      "Optimization Iteration:    481, Training Accuracy:  87.1%, Batch Cost: 0.5614273548126221\n",
      "Optimization Iteration:    501, Training Accuracy:  89.8%, Batch Cost: 0.4753284454345703\n",
      "Optimization Iteration:    521, Training Accuracy:  85.9%, Batch Cost: 0.5816181898117065\n",
      "Optimization Iteration:    541, Training Accuracy:  88.5%, Batch Cost: 0.4710269570350647\n",
      "Optimization Iteration:    561, Training Accuracy:  82.4%, Batch Cost: 0.47044798731803894\n",
      "Optimization Iteration:    581, Training Accuracy:  85.0%, Batch Cost: 0.4868180751800537\n",
      "Optimization Iteration:    601, Training Accuracy:  89.8%, Batch Cost: 0.3738916218280792\n",
      "Optimization Iteration:    621, Training Accuracy:  90.2%, Batch Cost: 0.4167260229587555\n",
      "Optimization Iteration:    641, Training Accuracy:  90.6%, Batch Cost: 0.34098637104034424\n",
      "Optimization Iteration:    661, Training Accuracy:  91.2%, Batch Cost: 0.37747329473495483\n",
      "Optimization Iteration:    681, Training Accuracy:  92.4%, Batch Cost: 0.2618227005004883\n",
      "Optimization Iteration:    701, Training Accuracy:  94.9%, Batch Cost: 0.28790566325187683\n",
      "Optimization Iteration:    721, Training Accuracy:  92.2%, Batch Cost: 0.5366334319114685\n",
      "Optimization Iteration:    741, Training Accuracy:  95.1%, Batch Cost: 0.34969162940979004\n",
      "Optimization Iteration:    761, Training Accuracy:  92.0%, Batch Cost: 0.3333161175251007\n",
      "Optimization Iteration:    781, Training Accuracy:  92.8%, Batch Cost: 0.29314830899238586\n",
      "Optimization Iteration:    801, Training Accuracy:  96.9%, Batch Cost: 0.19626186788082123\n",
      "Optimization Iteration:    821, Training Accuracy:  94.3%, Batch Cost: 0.20249897241592407\n",
      "Optimization Iteration:    841, Training Accuracy:  96.7%, Batch Cost: 0.2130838930606842\n",
      "Optimization Iteration:    861, Training Accuracy:  90.6%, Batch Cost: 0.28576457500457764\n",
      "Optimization Iteration:    881, Training Accuracy:  97.1%, Batch Cost: 0.21770112216472626\n",
      "Optimization Iteration:    901, Training Accuracy:  91.6%, Batch Cost: 0.3540244698524475\n",
      "Optimization Iteration:    921, Training Accuracy:  97.5%, Batch Cost: 0.15050920844078064\n",
      "Optimization Iteration:    941, Training Accuracy:  97.1%, Batch Cost: 0.22248412668704987\n",
      "Optimization Iteration:    961, Training Accuracy:  97.7%, Batch Cost: 0.1619986742734909\n",
      "Optimization Iteration:    981, Training Accuracy:  98.4%, Batch Cost: 0.1390770971775055\n",
      "Accuracy on test-set: 79.5%\n"
     ]
    }
   ],
   "source": [
    "optimize(num_iterations=1000)\n",
    "print_accuracy()"
   ]
  },
  {
   "cell_type": "code",
   "execution_count": null,
   "metadata": {
    "collapsed": false
   },
   "outputs": [],
   "source": [
    "# plot_weights()"
   ]
  },
  {
   "cell_type": "code",
   "execution_count": null,
   "metadata": {
    "collapsed": false
   },
   "outputs": [],
   "source": [
    "# print_confusion_matrix()"
   ]
  },
  {
   "cell_type": "code",
   "execution_count": 43,
   "metadata": {
    "collapsed": false,
    "scrolled": true
   },
   "outputs": [
    {
     "name": "stdout",
     "output_type": "stream",
     "text": [
      "Optimization Iteration:      1, Training Accuracy:  98.0%, Batch Cost: 0.1550397276878357\n",
      "Optimization Iteration:     21, Training Accuracy:  98.6%, Batch Cost: 0.13761655986309052\n",
      "Optimization Iteration:     41, Training Accuracy:  98.0%, Batch Cost: 0.12295344471931458\n",
      "Optimization Iteration:     61, Training Accuracy:  97.7%, Batch Cost: 0.2101559042930603\n",
      "Optimization Iteration:     81, Training Accuracy:  98.8%, Batch Cost: 0.1210552304983139\n",
      "Accuracy on test-set: 80.2%\n"
     ]
    }
   ],
   "source": [
    "optimize(num_iterations=100)\n",
    "print_accuracy()"
   ]
  },
  {
   "cell_type": "code",
   "execution_count": 44,
   "metadata": {
    "collapsed": false,
    "scrolled": true
   },
   "outputs": [
    {
     "name": "stdout",
     "output_type": "stream",
     "text": [
      "Optimization Iteration:      1, Training Accuracy:  98.4%, Batch Cost: 0.12836942076683044\n",
      "Optimization Iteration:     21, Training Accuracy:  99.6%, Batch Cost: 0.1002744808793068\n",
      "Optimization Iteration:     41, Training Accuracy:  98.4%, Batch Cost: 0.10619430989027023\n",
      "Optimization Iteration:     61, Training Accuracy:  97.3%, Batch Cost: 0.19566553831100464\n",
      "Optimization Iteration:     81, Training Accuracy:  99.0%, Batch Cost: 0.10074124485254288\n",
      "Accuracy on test-set: 80.8%\n"
     ]
    }
   ],
   "source": [
    "optimize(num_iterations=100)\n",
    "print_accuracy()"
   ]
  },
  {
   "cell_type": "code",
   "execution_count": 45,
   "metadata": {
    "collapsed": false,
    "scrolled": true
   },
   "outputs": [
    {
     "name": "stdout",
     "output_type": "stream",
     "text": [
      "Optimization Iteration:      1, Training Accuracy:  99.0%, Batch Cost: 0.10361862927675247\n",
      "Optimization Iteration:     21, Training Accuracy:  99.6%, Batch Cost: 0.07597212493419647\n",
      "Optimization Iteration:     41, Training Accuracy:  97.1%, Batch Cost: 0.09938175976276398\n",
      "Optimization Iteration:     61, Training Accuracy:  98.0%, Batch Cost: 0.1795494109392166\n",
      "Optimization Iteration:     81, Training Accuracy:  99.0%, Batch Cost: 0.08376910537481308\n",
      "Accuracy on test-set: 81.2%\n"
     ]
    }
   ],
   "source": [
    "optimize(num_iterations=100)\n",
    "print_accuracy()"
   ]
  },
  {
   "cell_type": "code",
   "execution_count": 46,
   "metadata": {
    "collapsed": false,
    "scrolled": true
   },
   "outputs": [
    {
     "name": "stdout",
     "output_type": "stream",
     "text": [
      "Optimization Iteration:      1, Training Accuracy:  99.0%, Batch Cost: 0.08423268049955368\n",
      "Optimization Iteration:     21, Training Accuracy:  99.6%, Batch Cost: 0.061883699148893356\n",
      "Optimization Iteration:     41, Training Accuracy:  97.1%, Batch Cost: 0.09422892332077026\n",
      "Optimization Iteration:     61, Training Accuracy:  98.2%, Batch Cost: 0.17541982233524323\n",
      "Optimization Iteration:     81, Training Accuracy:  99.4%, Batch Cost: 0.06938405334949493\n",
      "Accuracy on test-set: 79.7%\n"
     ]
    }
   ],
   "source": [
    "optimize(num_iterations=100)\n",
    "print_accuracy()"
   ]
  },
  {
   "cell_type": "code",
   "execution_count": null,
   "metadata": {
    "collapsed": false
   },
   "outputs": [
    {
     "name": "stdout",
     "output_type": "stream",
     "text": [
      "Optimization Iteration:      1, Training Accuracy:  99.4%, Batch Cost: 0.11441165208816528\n",
      "Optimization Iteration:     21, Training Accuracy:  99.8%, Batch Cost: 0.050746746361255646\n",
      "Optimization Iteration:     41, Training Accuracy:  98.8%, Batch Cost: 0.07352785021066666\n"
     ]
    }
   ],
   "source": [
    "optimize(num_iterations=1000)\n",
    "print_accuracy()"
   ]
  },
  {
   "cell_type": "code",
   "execution_count": null,
   "metadata": {
    "collapsed": true
   },
   "outputs": [],
   "source": []
  }
 ],
 "metadata": {
  "anaconda-cloud": {},
  "kernelspec": {
   "display_name": "Python [conda env:CarND-TensorFlow-Lab]",
   "language": "python",
   "name": "conda-env-CarND-TensorFlow-Lab-py"
  },
  "language_info": {
   "codemirror_mode": {
    "name": "ipython",
    "version": 3
   },
   "file_extension": ".py",
   "mimetype": "text/x-python",
   "name": "python",
   "nbconvert_exporter": "python",
   "pygments_lexer": "ipython3",
   "version": "3.5.2"
  }
 },
 "nbformat": 4,
 "nbformat_minor": 1
}
